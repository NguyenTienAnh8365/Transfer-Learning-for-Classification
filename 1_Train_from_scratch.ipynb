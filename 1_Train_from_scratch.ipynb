{
 "cells": [
  {
   "cell_type": "code",
   "execution_count": 58,
   "id": "c7763f16",
   "metadata": {
    "colab": {
     "base_uri": "https://localhost:8080/"
    },
    "executionInfo": {
     "elapsed": 1236,
     "status": "ok",
     "timestamp": 1752140016928,
     "user": {
      "displayName": "Tiến Anh Nguyễn",
      "userId": "17210799405645199378"
     },
     "user_tz": -420
    },
    "id": "c7763f16",
    "outputId": "8f4462de-9a03-492b-eec2-bfbd454bac29"
   },
   "outputs": [
    {
     "name": "stdout",
     "output_type": "stream",
     "text": [
      "Drive already mounted at /content/drive; to attempt to forcibly remount, call drive.mount(\"/content/drive\", force_remount=True).\n",
      "✅ Using device: cuda\n"
     ]
    }
   ],
   "source": [
    "import torch\n",
    "from torchvision import transforms, datasets, models\n",
    "import torch.nn as nn\n",
    "import torch.nn.functional as F\n",
    "from torch.utils.data import DataLoader\n",
    "from torch.optim import Adam\n",
    "import matplotlib.pyplot as plt\n",
    "import numpy as np\n",
    "from torchsummary import summary\n",
    "\n",
    "# Đảm bảo reproducibility\n",
    "torch.manual_seed(1)\n",
    "\n",
    "# Mount Google Drive\n",
    "from google.colab import drive\n",
    "drive.mount('/content/drive')\n",
    "\n",
    "# Device\n",
    "device = \"cuda\" if torch.cuda.is_available() else \"cpu\"\n",
    "print(f\"✅ Using device: {device}\")\n"
   ]
  },
  {
   "cell_type": "markdown",
   "id": "37cd4185",
   "metadata": {
    "id": "37cd4185"
   },
   "source": [
    "1 Data"
   ]
  },
  {
   "cell_type": "code",
   "execution_count": 59,
   "id": "3c1a70c6",
   "metadata": {
    "colab": {
     "base_uri": "https://localhost:8080/"
    },
    "executionInfo": {
     "elapsed": 50,
     "status": "ok",
     "timestamp": 1752140018544,
     "user": {
      "displayName": "Tiến Anh Nguyễn",
      "userId": "17210799405645199378"
     },
     "user_tz": -420
    },
    "id": "3c1a70c6",
    "outputId": "489b8687-6da9-4f81-c9d2-0743282617e8"
   },
   "outputs": [
    {
     "name": "stdout",
     "output_type": "stream",
     "text": [
      "✅ Dataset loaded: 2000 training samples, 1000 validation samples.\n"
     ]
    }
   ],
   "source": [
    "# Transforms\n",
    "train_transform = transforms.Compose([\n",
    "    transforms.Resize((224, 224)),\n",
    "    transforms.ToTensor(),\n",
    "    transforms.Normalize(mean=[0.485, 0.456, 0.406],\n",
    "                         std=[0.229, 0.224, 0.225]),\n",
    "    transforms.RandomErasing(p=0.75, scale=(0.01, 0.3), ratio=(1.0, 1.0), value=0, inplace=True)\n",
    "])\n",
    "\n",
    "test_transform = transforms.Compose([\n",
    "    transforms.Resize((224, 224)),\n",
    "    transforms.ToTensor(),\n",
    "    transforms.Normalize(mean=[0.485, 0.456, 0.406],\n",
    "                         std=[0.229, 0.224, 0.225])\n",
    "])\n",
    "\n",
    "# Dataset paths\n",
    "train_path = \"/content/drive/MyDrive/Colab Notebooks/Transfer learning/data1000/train\"\n",
    "val_path = \"/content/drive/MyDrive/Colab Notebooks/Transfer learning/data1000/validation\"\n",
    "\n",
    "# Datasets\n",
    "train_data = datasets.ImageFolder(train_path, transform=train_transform)\n",
    "test_data = datasets.ImageFolder(val_path, transform=test_transform)\n",
    "\n",
    "# DataLoader\n",
    "train_loader = DataLoader(train_data, batch_size=32, shuffle=True, num_workers=0)\n",
    "test_loader = DataLoader(test_data, batch_size=32, shuffle=False, num_workers=0)\n",
    "\n",
    "print(f\"✅ Dataset loaded: {len(train_data)} training samples, {len(test_data)} validation samples.\")\n"
   ]
  },
  {
   "cell_type": "markdown",
   "id": "f3114605",
   "metadata": {
    "id": "f3114605"
   },
   "source": [
    "2 Model"
   ]
  },
  {
   "cell_type": "code",
   "execution_count": 60,
   "id": "13442a4a",
   "metadata": {
    "colab": {
     "base_uri": "https://localhost:8080/"
    },
    "executionInfo": {
     "elapsed": 2296,
     "status": "ok",
     "timestamp": 1752140024557,
     "user": {
      "displayName": "Tiến Anh Nguyễn",
      "userId": "17210799405645199378"
     },
     "user_tz": -420
    },
    "id": "13442a4a",
    "outputId": "195fd56a-df05-4073-a3f5-53c8433e2aa1"
   },
   "outputs": [
    {
     "name": "stdout",
     "output_type": "stream",
     "text": [
      "----------------------------------------------------------------\n",
      "        Layer (type)               Output Shape         Param #\n",
      "================================================================\n",
      "            Conv2d-1         [-1, 64, 224, 224]           1,792\n",
      "              ReLU-2         [-1, 64, 224, 224]               0\n",
      "            Conv2d-3         [-1, 64, 224, 224]          36,928\n",
      "              ReLU-4         [-1, 64, 224, 224]               0\n",
      "         MaxPool2d-5         [-1, 64, 112, 112]               0\n",
      "            Conv2d-6        [-1, 128, 112, 112]          73,856\n",
      "              ReLU-7        [-1, 128, 112, 112]               0\n",
      "            Conv2d-8        [-1, 128, 112, 112]         147,584\n",
      "              ReLU-9        [-1, 128, 112, 112]               0\n",
      "        MaxPool2d-10          [-1, 128, 56, 56]               0\n",
      "           Conv2d-11          [-1, 256, 56, 56]         295,168\n",
      "             ReLU-12          [-1, 256, 56, 56]               0\n",
      "           Conv2d-13          [-1, 256, 56, 56]         590,080\n",
      "             ReLU-14          [-1, 256, 56, 56]               0\n",
      "           Conv2d-15          [-1, 256, 56, 56]         590,080\n",
      "             ReLU-16          [-1, 256, 56, 56]               0\n",
      "        MaxPool2d-17          [-1, 256, 28, 28]               0\n",
      "           Conv2d-18          [-1, 512, 28, 28]       1,180,160\n",
      "             ReLU-19          [-1, 512, 28, 28]               0\n",
      "           Conv2d-20          [-1, 512, 28, 28]       2,359,808\n",
      "             ReLU-21          [-1, 512, 28, 28]               0\n",
      "           Conv2d-22          [-1, 512, 28, 28]       2,359,808\n",
      "             ReLU-23          [-1, 512, 28, 28]               0\n",
      "        MaxPool2d-24          [-1, 512, 14, 14]               0\n",
      "           Conv2d-25          [-1, 512, 14, 14]       2,359,808\n",
      "             ReLU-26          [-1, 512, 14, 14]               0\n",
      "           Conv2d-27          [-1, 512, 14, 14]       2,359,808\n",
      "             ReLU-28          [-1, 512, 14, 14]               0\n",
      "           Conv2d-29          [-1, 512, 14, 14]       2,359,808\n",
      "             ReLU-30          [-1, 512, 14, 14]               0\n",
      "        MaxPool2d-31            [-1, 512, 7, 7]               0\n",
      "          Flatten-32                [-1, 25088]               0\n",
      "          Dropout-33                [-1, 25088]               0\n",
      "           Linear-34                  [-1, 512]      12,845,568\n",
      "             ReLU-35                  [-1, 512]               0\n",
      "          Dropout-36                  [-1, 512]               0\n",
      "           Linear-37                    [-1, 2]           1,026\n",
      "================================================================\n",
      "Total params: 27,561,282\n",
      "Trainable params: 27,561,282\n",
      "Non-trainable params: 0\n",
      "----------------------------------------------------------------\n",
      "Input size (MB): 0.57\n",
      "Forward/backward pass size (MB): 218.79\n",
      "Params size (MB): 105.14\n",
      "Estimated Total Size (MB): 324.50\n",
      "----------------------------------------------------------------\n"
     ]
    }
   ],
   "source": [
    "# Load the pretrained VGG16 model\n",
    "vgg16 = models.vgg16()\n",
    "f_extractor = vgg16.features\n",
    "\n",
    "model = nn.Sequential(f_extractor,\n",
    "                      nn.Flatten(),\n",
    "                      nn.Dropout(0.3),\n",
    "                      nn.Linear(512*7*7, 512),\n",
    "                      nn.ReLU(),\n",
    "                      nn.Dropout(0.3),\n",
    "                      nn.Linear(512, 2))\n",
    "\n",
    "\n",
    "\n",
    "model.to(device)\n",
    "summary(model, (3, 224, 224))"
   ]
  },
  {
   "cell_type": "markdown",
   "id": "14b1e300",
   "metadata": {
    "id": "14b1e300"
   },
   "source": [
    "3 Train, Evaluate"
   ]
  },
  {
   "cell_type": "code",
   "execution_count": 61,
   "id": "ebbc2b6b",
   "metadata": {
    "executionInfo": {
     "elapsed": 5,
     "status": "ok",
     "timestamp": 1752140034123,
     "user": {
      "displayName": "Tiến Anh Nguyễn",
      "userId": "17210799405645199378"
     },
     "user_tz": -420
    },
    "id": "ebbc2b6b"
   },
   "outputs": [],
   "source": [
    "criterion = nn.CrossEntropyLoss()\n",
    "optimizer = Adam(model.parameters(), lr=1e-4)"
   ]
  },
  {
   "cell_type": "code",
   "execution_count": 62,
   "id": "3dbd2c8a",
   "metadata": {
    "executionInfo": {
     "elapsed": 19,
     "status": "ok",
     "timestamp": 1752140036380,
     "user": {
      "displayName": "Tiến Anh Nguyễn",
      "userId": "17210799405645199378"
     },
     "user_tz": -420
    },
    "id": "3dbd2c8a"
   },
   "outputs": [],
   "source": [
    "def train_one_epoch(model, criterion, optimizer, loader):\n",
    "    model.train()\n",
    "    total, running_loss, running_correct = 0, 0, 0\n",
    "\n",
    "    for images, labels in loader:\n",
    "        images, labels = images.to(device), labels.to(device)\n",
    "\n",
    "        optimizer.zero_grad()\n",
    "\n",
    "        outputs = model(images)\n",
    "        loss = criterion(outputs, labels)\n",
    "        loss.backward()\n",
    "        optimizer.step()\n",
    "\n",
    "        running_loss += loss.item()\n",
    "        _, preds = torch.max(outputs, 1)\n",
    "        running_correct += (preds == labels).sum().item()\n",
    "        total += labels.size(0)\n",
    "\n",
    "    epoch_loss = running_loss / len(loader)\n",
    "    epoch_acc = running_correct / total\n",
    "    return epoch_loss, epoch_acc\n",
    "\n",
    "def evaluate_one_epoch(model, criterion, loader):\n",
    "    model.eval()\n",
    "    total, test_loss, running_correct = 0, 0, 0\n",
    "\n",
    "    with torch.no_grad():\n",
    "        for images, labels in loader:\n",
    "            images, labels = images.to(device), labels.to(device)\n",
    "\n",
    "            outputs = model(images)\n",
    "            loss = criterion(outputs, labels)\n",
    "\n",
    "            test_loss += loss.item()\n",
    "            _, preds = torch.max(outputs, 1)\n",
    "            running_correct += (preds == labels).sum().item()\n",
    "            total += labels.size(0)\n",
    "\n",
    "    epoch_loss = test_loss / len(loader)\n",
    "    epoch_acc = running_correct / total\n",
    "    return epoch_loss, epoch_acc\n"
   ]
  },
  {
   "cell_type": "code",
   "execution_count": 64,
   "id": "1f304e67",
   "metadata": {
    "colab": {
     "base_uri": "https://localhost:8080/"
    },
    "executionInfo": {
     "elapsed": 638577,
     "status": "ok",
     "timestamp": 1752140746277,
     "user": {
      "displayName": "Tiến Anh Nguyễn",
      "userId": "17210799405645199378"
     },
     "user_tz": -420
    },
    "id": "1f304e67",
    "outputId": "2e43800d-d552-4749-9efe-5fd8a03062d1"
   },
   "outputs": [
    {
     "name": "stdout",
     "output_type": "stream",
     "text": [
      "⚙️ Starting training...\n",
      "[Epoch 01/10] Train Loss: 0.6933 | Train Acc: 0.5210 || Test Loss: 0.6853 | Test Acc: 0.5300 || \n",
      "[Epoch 02/10] Train Loss: 0.6824 | Train Acc: 0.5795 || Test Loss: 0.6767 | Test Acc: 0.6140 || \n",
      "[Epoch 03/10] Train Loss: 0.6529 | Train Acc: 0.6460 || Test Loss: 0.6515 | Test Acc: 0.6300 || \n",
      "[Epoch 04/10] Train Loss: 0.6513 | Train Acc: 0.6380 || Test Loss: 0.6588 | Test Acc: 0.6250 || \n",
      "[Epoch 05/10] Train Loss: 0.6182 | Train Acc: 0.6610 || Test Loss: 0.6440 | Test Acc: 0.6660 || \n",
      "[Epoch 06/10] Train Loss: 0.6008 | Train Acc: 0.6875 || Test Loss: 0.6032 | Test Acc: 0.6910 || \n",
      "[Epoch 07/10] Train Loss: 0.5950 | Train Acc: 0.6935 || Test Loss: 0.5925 | Test Acc: 0.7040 || \n",
      "[Epoch 08/10] Train Loss: 0.5640 | Train Acc: 0.7065 || Test Loss: 0.6027 | Test Acc: 0.6740 || \n",
      "[Epoch 09/10] Train Loss: 0.5496 | Train Acc: 0.7240 || Test Loss: 0.5869 | Test Acc: 0.7040 || \n",
      "[Epoch 10/10] Train Loss: 0.5211 | Train Acc: 0.7400 || Test Loss: 0.6380 | Test Acc: 0.6590 || \n",
      "✅ Training completed.\n"
     ]
    }
   ],
   "source": [
    "# Training loop\n",
    "train_losses, test_losses = [], []\n",
    "train_accuracies, test_accuracies = [], []\n",
    "\n",
    "num_epochs = 10\n",
    "\n",
    "print(\"⚙️ Starting training...\", flush=True)\n",
    "\n",
    "for epoch in range(num_epochs):\n",
    "\n",
    "    train_loss, train_acc = train_one_epoch(model, criterion, optimizer, train_loader)\n",
    "    test_loss, test_acc = evaluate_one_epoch(model, criterion, test_loader)\n",
    "\n",
    "    train_losses.append(train_loss)\n",
    "    test_losses.append(test_loss)\n",
    "    train_accuracies.append(train_acc)\n",
    "    test_accuracies.append(test_acc)\n",
    "\n",
    "    print(f\"[Epoch {epoch+1:02d}/{num_epochs}] \"\n",
    "          f\"Train Loss: {train_loss:.4f} | Train Acc: {train_acc:.4f} || \"\n",
    "          f\"Test Loss: {test_loss:.4f} | Test Acc: {test_acc:.4f} || \",\n",
    "\n",
    "          flush=True)\n",
    "\n",
    "print(\"✅ Training completed.\", flush=True)\n"
   ]
  },
  {
   "cell_type": "code",
   "execution_count": 65,
   "id": "oe521osfuipl",
   "metadata": {
    "colab": {
     "base_uri": "https://localhost:8080/",
     "height": 449
    },
    "executionInfo": {
     "elapsed": 159,
     "status": "ok",
     "timestamp": 1752140767698,
     "user": {
      "displayName": "Tiến Anh Nguyễn",
      "userId": "17210799405645199378"
     },
     "user_tz": -420
    },
    "id": "oe521osfuipl",
    "outputId": "82e48753-cfa1-41d9-cb6f-f6084ec1b7ed"
   },
   "outputs": [
    {
     "data": {
      "text/plain": [
       "<matplotlib.legend.Legend at 0x78680dd79650>"
      ]
     },
     "execution_count": 65,
     "metadata": {},
     "output_type": "execute_result"
    },
    {
     "data": {
      "image/png": "[encoded data removed]",
      "text/plain": [
       "<Figure size 640x480 with 1 Axes>"
      ]
     },
     "metadata": {},
     "output_type": "display_data"
    }
   ],
   "source": [
    "plt.plot(train_losses, label='train_losses')\n",
    "plt.plot(test_losses, label='test_losses')\n",
    "plt.legend()"
   ]
  },
  {
   "cell_type": "code",
   "execution_count": 66,
   "id": "G5_ISQ8auq1u",
   "metadata": {
    "colab": {
     "base_uri": "https://localhost:8080/",
     "height": 451
    },
    "executionInfo": {
     "elapsed": 161,
     "status": "ok",
     "timestamp": 1752140788490,
     "user": {
      "displayName": "Tiến Anh Nguyễn",
      "userId": "17210799405645199378"
     },
     "user_tz": -420
    },
    "id": "G5_ISQ8auq1u",
    "outputId": "b0b05834-5c65-47a5-bbc8-88829951c341"
   },
   "outputs": [
    {
     "data": {
      "text/plain": [
       "<matplotlib.legend.Legend at 0x7866ea31d150>"
      ]
     },
     "execution_count": 66,
     "metadata": {},
     "output_type": "execute_result"
    },
    {
     "data": {
      "image/png": "[encoded data removed]",
      "text/plain": [
       "<Figure size 640x480 with 1 Axes>"
      ]
     },
     "metadata": {},
     "output_type": "display_data"
    }
   ],
   "source": [
    "plt.plot(train_accuracies, label='train_accuracy')\n",
    "plt.plot(test_accuracies, label='test_accuracy')\n",
    "plt.legend()"
   ]
  },
  {
   "cell_type": "code",
   "execution_count": 63,
   "id": "17b61775",
   "metadata": {
    "colab": {
     "base_uri": "https://localhost:8080/"
    },
    "executionInfo": {
     "elapsed": 21,
     "status": "ok",
     "timestamp": 1752140096492,
     "user": {
      "displayName": "Tiến Anh Nguyễn",
      "userId": "17210799405645199378"
     },
     "user_tz": -420
    },
    "id": "17b61775",
    "outputId": "376e81fe-60c2-4b87-8086-211601064cd1"
   },
   "outputs": [
    {
     "name": "stdout",
     "output_type": "stream",
     "text": [
      "Cache cleared.\n"
     ]
    }
   ],
   "source": [
    "import gc\n",
    "import torch\n",
    "\n",
    "gc.collect()\n",
    "torch.cuda.empty_cache()\n",
    "print(\"Cache cleared.\")"
   ]
  }
 ],
 "metadata": {
  "accelerator": "GPU",
  "colab": {
   "gpuType": "T4",
   "provenance": []
  },
  "kernelspec": {
   "display_name": "Python 3",
   "name": "python3"
  },
  "language_info": {
   "name": "python"
  }
 },
 "nbformat": 4,
 "nbformat_minor": 5
}
